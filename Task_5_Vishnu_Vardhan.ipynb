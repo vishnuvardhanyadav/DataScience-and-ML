{
  "nbformat": 4,
  "nbformat_minor": 0,
  "metadata": {
    "colab": {
      "provenance": []
    },
    "kernelspec": {
      "name": "python3",
      "display_name": "Python 3"
    },
    "language_info": {
      "name": "python"
    }
  },
  "cells": [
    {
      "cell_type": "code",
      "execution_count": null,
      "metadata": {
        "id": "ujJy5PIoVhxC"
      },
      "outputs": [],
      "source": [
        "import pandas as pd\n",
        "from sklearn.model_selection import train_test_split\n",
        "from sklearn.preprocessing import LabelEncoder\n",
        "from sklearn.tree import DecisionTreeRegressor\n",
        "from sklearn.ensemble import RandomForestRegressor\n",
        "from sklearn.metrics import mean_squared_error, r2_score"
      ]
    },
    {
      "cell_type": "code",
      "source": [
        "df = pd.read_csv('100_Sales.csv')\n",
        "df.shape"
      ],
      "metadata": {
        "colab": {
          "base_uri": "https://localhost:8080/"
        },
        "id": "gUmGiXqyVvyI",
        "outputId": "2524c6c6-9bbb-4a1b-fbbd-390fad538823"
      },
      "execution_count": null,
      "outputs": [
        {
          "output_type": "execute_result",
          "data": {
            "text/plain": [
              "(100, 11)"
            ]
          },
          "metadata": {},
          "execution_count": 2
        }
      ]
    },
    {
      "cell_type": "code",
      "source": [
        "df = df.fillna(df.median(numeric_only=True))\n",
        "categorical_cols = df.select_dtypes(include=['object']).columns\n",
        "df[categorical_cols] = df[categorical_cols].fillna('Unknown')"
      ],
      "metadata": {
        "id": "9_3DJspEVzim"
      },
      "execution_count": null,
      "outputs": []
    },
    {
      "cell_type": "code",
      "source": [
        "le = LabelEncoder()\n",
        "for col in categorical_cols:\n",
        "    df[col] = le.fit_transform(df[col])"
      ],
      "metadata": {
        "id": "LWiLItC0V4tO"
      },
      "execution_count": null,
      "outputs": []
    },
    {
      "cell_type": "code",
      "source": [
        "if 'Total_Profit' not in df.columns:\n",
        "    print(\"Error: Total_Profit not found in dataset columns!\")\n",
        "    print(\"Columns available:\", df.columns)\n",
        "else:\n",
        "    X = df.drop(columns=['Total_Profit'])\n",
        "    y = df['Total_Profit']\n"
      ],
      "metadata": {
        "id": "Cs1hufrUV7Sd"
      },
      "execution_count": null,
      "outputs": []
    },
    {
      "cell_type": "code",
      "source": [
        "if 'Total_Profit' not in df.columns:\n",
        "    raise ValueError(\"Error: 'Total_Profit' not found in dataset columns! Please verify the target column name.\")\n",
        "else:\n",
        "    X = df.drop(columns=['Total_Profit'])\n",
        "    y = df['Total_Profit']"
      ],
      "metadata": {
        "id": "UuvAr12FWAsb"
      },
      "execution_count": null,
      "outputs": []
    },
    {
      "cell_type": "code",
      "source": [
        "df.shape\n",
        "if df.shape[0] == 0:\n",
        "    raise ValueError(\"Dataset is empty after preprocessing. Check for excessive data cleaning.\")"
      ],
      "metadata": {
        "id": "PKSe9se0WKAZ"
      },
      "execution_count": null,
      "outputs": []
    },
    {
      "cell_type": "markdown",
      "source": [
        "#train_test_split"
      ],
      "metadata": {
        "id": "CV51CFF_WmL7"
      }
    },
    {
      "cell_type": "code",
      "source": [
        "X_train, X_test, y_train, y_test = train_test_split(X, y, test_size=0.2, random_state=42)"
      ],
      "metadata": {
        "id": "dkxpUDBOWOpk"
      },
      "execution_count": null,
      "outputs": []
    },
    {
      "cell_type": "markdown",
      "source": [
        "#DecisionTreeRegressor"
      ],
      "metadata": {
        "id": "otXlZF51Wj3o"
      }
    },
    {
      "cell_type": "code",
      "source": [
        "dt_model = DecisionTreeRegressor(random_state=42)\n",
        "dt_model.fit(X_train, y_train)\n",
        "dt_preds = dt_model.predict(X_test)\n"
      ],
      "metadata": {
        "id": "OZzjyYEEWPSP"
      },
      "execution_count": null,
      "outputs": []
    },
    {
      "cell_type": "code",
      "source": [
        "print(\"\\nDecision Tree Results:\")\n",
        "print(\"Mean Squared Error:\", mean_squared_error(y_test, dt_preds))\n",
        "print(\"R-squared:\", r2_score(y_test, dt_preds))"
      ],
      "metadata": {
        "colab": {
          "base_uri": "https://localhost:8080/"
        },
        "id": "Ayryt71QWTv7",
        "outputId": "de8abc7b-9589-425e-ba5c-4436f2ea724c"
      },
      "execution_count": null,
      "outputs": [
        {
          "output_type": "stream",
          "name": "stdout",
          "text": [
            "\n",
            "Decision Tree Results:\n",
            "Mean Squared Error: 20372776916.53144\n",
            "R-squared: 0.8781365617449601\n"
          ]
        }
      ]
    },
    {
      "cell_type": "markdown",
      "source": [
        "#RandomForestRegressor"
      ],
      "metadata": {
        "id": "cDWYq0wTWfGc"
      }
    },
    {
      "cell_type": "code",
      "source": [
        "rf_model = RandomForestRegressor(n_estimators=100, random_state=42)\n",
        "rf_model.fit(X_train, y_train)\n",
        "rf_preds = rf_model.predict(X_test)"
      ],
      "metadata": {
        "id": "UuW3UD62WXFh"
      },
      "execution_count": null,
      "outputs": []
    },
    {
      "cell_type": "code",
      "source": [
        "print(\"\\nRandom Forest Results:\")\n",
        "print(\"Mean Squared Error:\", mean_squared_error(y_test, rf_preds))\n",
        "print(\"R-squared:\", r2_score(y_test, rf_preds))"
      ],
      "metadata": {
        "colab": {
          "base_uri": "https://localhost:8080/"
        },
        "id": "vY8cUnSCWbPh",
        "outputId": "4cf20f14-943d-4183-be94-2bfcb6cd9ad1"
      },
      "execution_count": null,
      "outputs": [
        {
          "output_type": "stream",
          "name": "stdout",
          "text": [
            "\n",
            "Random Forest Results:\n",
            "Mean Squared Error: 28069363192.498577\n",
            "R-squared: 0.8320980432720648\n"
          ]
        }
      ]
    }
  ]
}
