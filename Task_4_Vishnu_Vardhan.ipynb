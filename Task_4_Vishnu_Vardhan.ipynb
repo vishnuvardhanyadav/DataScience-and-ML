{
  "nbformat": 4,
  "nbformat_minor": 0,
  "metadata": {
    "colab": {
      "provenance": []
    },
    "kernelspec": {
      "name": "python3",
      "display_name": "Python 3"
    },
    "language_info": {
      "name": "python"
    }
  },
  "cells": [
    {
      "cell_type": "code",
      "execution_count": null,
      "metadata": {
        "id": "kydvv160HgAx"
      },
      "outputs": [],
      "source": [
        "import pandas as pd"
      ]
    },
    {
      "cell_type": "code",
      "source": [
        "data = {\n",
        "    \"PassengerId\": [892, 893, 894, 895, 896],\n",
        "    \"Survived\": [0, 1, 0, 0, 1],\n",
        "    \"Pclass\": [3, 3, 2, 3, 3],\n",
        "    \"Fare\": [7.8292, 7.0, 9.6875, 8.6625, 12.2875]\n",
        "}\n"
      ],
      "metadata": {
        "id": "mel1KsA8ILFm"
      },
      "execution_count": null,
      "outputs": []
    },
    {
      "cell_type": "code",
      "source": [
        "df = pd.DataFrame(data)"
      ],
      "metadata": {
        "id": "3xfT4rryINNr"
      },
      "execution_count": null,
      "outputs": []
    },
    {
      "cell_type": "code",
      "source": [
        "df['Pclass'] = pd.to_numeric(df['Pclass'], errors='coerce')\n",
        "df['Fare'] = pd.to_numeric(df['Fare'], errors='coerce')"
      ],
      "metadata": {
        "id": "iJrHMvTdJVp5"
      },
      "execution_count": null,
      "outputs": []
    },
    {
      "cell_type": "code",
      "source": [
        "def normalize(series):\n",
        "    if series.max() == series.min():\n",
        "        return pd.Series(0, index=series.index)  # Handle no variance\n",
        "    return (series - series.min()) / (series.max() - series.min())"
      ],
      "metadata": {
        "id": "LnC95qysIPb5"
      },
      "execution_count": null,
      "outputs": []
    },
    {
      "cell_type": "code",
      "source": [
        "df['Normalized_Fare'] = df.groupby('Pclass')['Fare'].transform(normalize)"
      ],
      "metadata": {
        "id": "bVFwxCRYIc_d"
      },
      "execution_count": null,
      "outputs": []
    },
    {
      "cell_type": "code",
      "source": [
        "print(df)"
      ],
      "metadata": {
        "colab": {
          "base_uri": "https://localhost:8080/"
        },
        "id": "Fn2SHXqtJd0X",
        "outputId": "bba5d224-6084-4524-f84c-c45226290c8f"
      },
      "execution_count": null,
      "outputs": [
        {
          "output_type": "stream",
          "name": "stdout",
          "text": [
            "   PassengerId  Survived  Pclass     Fare  Normalized_Fare\n",
            "0          892         0       3   7.8292         0.156823\n",
            "1          893         1       3   7.0000         0.000000\n",
            "2          894         0       2   9.6875         0.000000\n",
            "3          895         0       3   8.6625         0.314421\n",
            "4          896         1       3  12.2875         1.000000\n"
          ]
        }
      ]
    }
  ]
}
